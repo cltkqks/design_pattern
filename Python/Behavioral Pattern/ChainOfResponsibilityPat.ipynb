{
 "cells": [
  {
   "cell_type": "code",
   "execution_count": 1,
   "metadata": {},
   "outputs": [],
   "source": [
    "class Handler:\n",
    "    def __init__(self):\n",
    "        self.next_handler = None\n",
    "    def setNext(self, handler):\n",
    "        self.next_handler = handler\n",
    "    def handle(self, req):\n",
    "        if self.next_handler:\n",
    "            return self.next_handler.handle(req)\n",
    "        \n",
    "        print(\"All handlers failed\")\n",
    "        return None"
   ]
  },
  {
   "cell_type": "code",
   "execution_count": 2,
   "metadata": {},
   "outputs": [],
   "source": [
    "class CashHandler(Handler):\n",
    "    def handle(self, req):\n",
    "        if req['method'] == 'cash':\n",
    "            print(f\"processing cash {req['amount']} won\")\n",
    "        else:\n",
    "            print(\"CashHandler cannot process\")\n",
    "            super().handle(req)\n",
    "\n",
    "class CreditCardHandler(Handler):\n",
    "    def handle(self, req):\n",
    "        if req['method'] == 'creditCard':\n",
    "            print(f\"processing creditCard {req['amount']} won\")\n",
    "        else:\n",
    "            print(\"CreditCardHandler cannot process\")\n",
    "            super().handle(req)\n",
    "\n",
    "class DebitCardHandler(Handler):\n",
    "    def handle(self, req):\n",
    "        if req['method'] == 'debitCard':\n",
    "            print(f\"processing debitCard {req['amount']} won\")\n",
    "        else:\n",
    "            print(\"DebitCardHandler cannot process\")\n",
    "            super().handle(req)"
   ]
  },
  {
   "cell_type": "code",
   "execution_count": 3,
   "metadata": {},
   "outputs": [
    {
     "name": "stdout",
     "output_type": "stream",
     "text": [
      "CashHandler cannot process\n",
      "CreditCardHandler cannot process\n",
      "DebitCardHandler cannot process\n",
      "All handlers failed\n"
     ]
    }
   ],
   "source": [
    "cash_handler = CashHandler()\n",
    "creditcard_handler = CreditCardHandler()\n",
    "debitcard_handler = DebitCardHandler()\n",
    "\n",
    "cash_handler.setNext(creditcard_handler)\n",
    "creditcard_handler.setNext(debitcard_handler)\n",
    "\n",
    "payment = {\n",
    "    \"method\" : \"paypal\",\n",
    "    \"amount\" : 10000\n",
    "}\n",
    "\n",
    "cash_handler.handle(payment)"
   ]
  }
 ],
 "metadata": {
  "kernelspec": {
   "display_name": "base",
   "language": "python",
   "name": "python3"
  },
  "language_info": {
   "codemirror_mode": {
    "name": "ipython",
    "version": 3
   },
   "file_extension": ".py",
   "mimetype": "text/x-python",
   "name": "python",
   "nbconvert_exporter": "python",
   "pygments_lexer": "ipython3",
   "version": "3.10.9"
  },
  "orig_nbformat": 4,
  "vscode": {
   "interpreter": {
    "hash": "a077222d77dfe082b8f1dd562ad70e458ac2ab76993a0b248ab0476e32e9e8dd"
   }
  }
 },
 "nbformat": 4,
 "nbformat_minor": 2
}
