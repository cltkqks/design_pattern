{
 "cells": [
  {
   "cell_type": "code",
   "execution_count": 1,
   "metadata": {},
   "outputs": [],
   "source": [
    "class Animal():\n",
    "  def speak(self):\n",
    "    pass\n",
    "\n",
    "class Cat(Animal):\n",
    "  def speak(self):\n",
    "    print(\"meow\")\n",
    "\n",
    "class Dog(Animal):\n",
    "  def speak(self):\n",
    "    print(\"bark\")"
   ]
  },
  {
   "cell_type": "code",
   "execution_count": 2,
   "metadata": {},
   "outputs": [
    {
     "name": "stdout",
     "output_type": "stream",
     "text": [
      "1 cats are created\n",
      "dog wings added\n"
     ]
    }
   ],
   "source": [
    "class AnimalFactory():\n",
    "  def createAnimal(self):\n",
    "    pass\n",
    "\n",
    "class CatFactory(AnimalFactory):\n",
    "  def __init__(self):\n",
    "    self.cat_count = 0\n",
    "  def createAnimal(self):\n",
    "    self.cat_count += 1\n",
    "    return Cat()\n",
    "  def catCount(self):\n",
    "    return self.cat_count\n",
    "\n",
    "\n",
    "class DogManager(AnimalFactory):\n",
    "  def haveDog(self):\n",
    "    self.dog = self.createAnimal()\n",
    "  def createAnimal(self):\n",
    "    return Dog()\n",
    "  def makeWings(self,dog:Dog):\n",
    "    print(\"dog wings added\")\n",
    "    return dog\n",
    "\n",
    "\n",
    "cat_factory = CatFactory()\n",
    "cat = cat_factory.createAnimal()\n",
    "print(f\"{cat_factory.catCount()} cats are created\")\n",
    "\n",
    "dog_manager = DogManager()\n",
    "dog = dog_manager.haveDog()\n",
    "wing_dog = dog_manager.makeWings(dog)"
   ]
  }
 ],
 "metadata": {
  "kernelspec": {
   "display_name": "base",
   "language": "python",
   "name": "python3"
  },
  "language_info": {
   "codemirror_mode": {
    "name": "ipython",
    "version": 3
   },
   "file_extension": ".py",
   "mimetype": "text/x-python",
   "name": "python",
   "nbconvert_exporter": "python",
   "pygments_lexer": "ipython3",
   "version": "3.10.9"
  },
  "orig_nbformat": 4
 },
 "nbformat": 4,
 "nbformat_minor": 2
}
