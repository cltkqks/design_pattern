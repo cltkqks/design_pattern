{
 "cells": [
  {
   "cell_type": "code",
   "execution_count": 1,
   "metadata": {},
   "outputs": [
    {
     "name": "stdout",
     "output_type": "stream",
     "text": [
      "30cm,7kg,black\n"
     ]
    }
   ],
   "source": [
    "class Cat:\n",
    "  def __init__(self,height,weight,color): # could be more props such as type,and more...\n",
    "    self.height = height\n",
    "    self.weight = weight\n",
    "    self.color = color\n",
    "\n",
    "  def print(self):\n",
    "    return print(f\"{self.height}cm,{self.weight}kg,{self.color}\")\n",
    "  \n",
    "\n",
    "class CatBuilder:\n",
    "  def __init__(self):\n",
    "    self.height = None\n",
    "    self.weight = None\n",
    "    self.color = None\n",
    "    \n",
    "  def setHeight(self,height):\n",
    "    self.height = height\n",
    "    return self\n",
    "  \n",
    "  def setWeight(self,weight):\n",
    "    self.weight = weight\n",
    "    return self\n",
    "  def setColor(self,color):\n",
    "    self.color = color\n",
    "    return self\n",
    "\n",
    "  def build(self):\n",
    "    cat = Cat(self.height,self.weight,self.color)\n",
    "    #building a cat can be very complex\n",
    "    return cat\n",
    "\n",
    "cat_builder = CatBuilder()\n",
    "cat_builder.setHeight(30)\n",
    "cat_builder.setWeight(7)\n",
    "cat_builder.setColor(\"black\")\n",
    "cat = cat_builder.build()\n",
    "cat.print()\n"
   ]
  },
  {
   "cell_type": "code",
   "execution_count": 2,
   "metadata": {},
   "outputs": [
    {
     "name": "stdout",
     "output_type": "stream",
     "text": [
      "20cm,19kg,green\n"
     ]
    }
   ],
   "source": [
    "cat = CatBuilder().setHeight(20).setWeight(19).setColor(\"green\").build()\n",
    "cat.print()"
   ]
  },
  {
   "cell_type": "code",
   "execution_count": 2,
   "metadata": {},
   "outputs": [
    {
     "name": "stdout",
     "output_type": "stream",
     "text": [
      "10cm,10kg,white\n",
      "20cm,20kg,black\n"
     ]
    }
   ],
   "source": [
    "class WhiteCatBuilder(CatBuilder):\n",
    "  def __init__(self):\n",
    "    super().__init__()\n",
    "    self.color = \"white\"\n",
    "\n",
    "class BlackCatBuilder(CatBuilder):\n",
    "  def __init__(self):\n",
    "    super().__init__()\n",
    "    self.color = \"black\"\n",
    "\n",
    "\n",
    "white_cat = WhiteCatBuilder().setHeight(10).setWeight(10).build()\n",
    "white_cat.print()\n",
    "black_cat = BlackCatBuilder().setHeight(20).setWeight(20).build()\n",
    "black_cat.print()"
   ]
  },
  {
   "cell_type": "code",
   "execution_count": 3,
   "metadata": {},
   "outputs": [
    {
     "name": "stdout",
     "output_type": "stream",
     "text": [
      "100cm,100kg,black\n"
     ]
    }
   ],
   "source": [
    "# Director is not mandatory\n",
    "class Director:\n",
    "  def setSmallCat(self,builder:CatBuilder):\n",
    "    builder.setWeight(5)\n",
    "    builder.setHeight(5)\n",
    "\n",
    "\n",
    "  def setBigCat(self,builder:CatBuilder):\n",
    "    builder.setWeight(100)\n",
    "    builder.setHeight(100)\n",
    "\n",
    "director = Director()\n",
    "black_cat_builder = BlackCatBuilder()\n",
    "director.setBigCat(black_cat_builder)\n",
    "cat = black_cat_builder.build()\n",
    "cat.print()"
   ]
  }
 ],
 "metadata": {
  "kernelspec": {
   "display_name": "base",
   "language": "python",
   "name": "python3"
  },
  "language_info": {
   "codemirror_mode": {
    "name": "ipython",
    "version": 3
   },
   "file_extension": ".py",
   "mimetype": "text/x-python",
   "name": "python",
   "nbconvert_exporter": "python",
   "pygments_lexer": "ipython3",
   "version": "3.10.9"
  },
  "orig_nbformat": 4
 },
 "nbformat": 4,
 "nbformat_minor": 2
}
