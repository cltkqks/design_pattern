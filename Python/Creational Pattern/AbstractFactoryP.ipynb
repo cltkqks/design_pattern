{
 "cells": [
  {
   "cell_type": "code",
   "execution_count": 8,
   "metadata": {},
   "outputs": [],
   "source": [
    "# Button abstract(interface) and its implementations\n",
    "class Button:\n",
    "    def click(self):\n",
    "        pass\n",
    "\n",
    "class DarkButton(Button):\n",
    "    def click(self):\n",
    "        print(\"dark click\")\n",
    "\n",
    "class LightButton(Button):\n",
    "    def click(self):\n",
    "        print(\"light click\")"
   ]
  },
  {
   "cell_type": "code",
   "execution_count": 9,
   "metadata": {},
   "outputs": [],
   "source": [
    "# Checkbox abstract(interface) and its implementations\n",
    "class CheckBox:\n",
    "    def check(self):\n",
    "        pass\n",
    "\n",
    "class DarkCheckBox(CheckBox):\n",
    "    def check(self):\n",
    "        print(\"dark check\")\n",
    "\n",
    "class LightCheckBox(CheckBox):\n",
    "    def check(self):\n",
    "        print(\"light check\")"
   ]
  },
  {
   "cell_type": "code",
   "execution_count": 10,
   "metadata": {},
   "outputs": [],
   "source": [
    "# Scrollbar abstract(interface) and its implementations\n",
    "class ScrollBar:\n",
    "  def scroll(self):\n",
    "    pass\n",
    "\n",
    "class DarkScrollBar(ScrollBar):\n",
    "  def scroll(self):\n",
    "    print(\"dark scroll\")\n",
    "\n",
    "class LightScrollBar(ScrollBar):\n",
    "  def scroll(self):\n",
    "    print(\"light scroll\")"
   ]
  },
  {
   "cell_type": "code",
   "execution_count": 5,
   "metadata": {},
   "outputs": [],
   "source": [
    "# UIFactory Abstract(interface) and its implementations\n",
    "class UIFactory:\n",
    "    def getButton(self):\n",
    "        pass\n",
    "\n",
    "    def getCheckBox(self):\n",
    "        pass\n",
    "\n",
    "    def getScrollBar(self):\n",
    "        pass\n",
    "\n",
    "class DarkUIFactory(UIFactory):\n",
    "    def getButton(self):\n",
    "        return DarkButton()\n",
    "    \n",
    "    def getCheckBox(self):\n",
    "        return DarkCheckBox()\n",
    "    \n",
    "    def getScrollBar(self):\n",
    "        return DarkScrollBar()\n",
    "    \n",
    "class LightUIFactory(UIFactory):\n",
    "    def getButton(self):\n",
    "      return LightButton()\n",
    "    \n",
    "    def getCheckBox(self):\n",
    "      return LightCheckBox()\n",
    "    \n",
    "    def getScrollBar(self):\n",
    "      return LightScrollBar()"
   ]
  },
  {
   "cell_type": "code",
   "execution_count": 11,
   "metadata": {},
   "outputs": [
    {
     "name": "stdout",
     "output_type": "stream",
     "text": [
      "dark click\n",
      "dark check\n",
      "dark scroll\n"
     ]
    }
   ],
   "source": [
    "# get darkTheme UI components\n",
    "dark_factory = DarkUIFactory()\n",
    "dark_btn = dark_factory.getButton()\n",
    "dark_checkBx = dark_factory.getCheckBox()\n",
    "dark_scrollBar = dark_factory.getScrollBar()\n",
    "\n",
    "dark_btn.click()\n",
    "dark_checkBx.check()\n",
    "dark_scrollBar.scroll()"
   ]
  },
  {
   "cell_type": "code",
   "execution_count": 12,
   "metadata": {},
   "outputs": [
    {
     "name": "stdout",
     "output_type": "stream",
     "text": [
      "light click\n",
      "light check\n",
      "light scroll\n"
     ]
    }
   ],
   "source": [
    "# get lightTheme UI components\n",
    "light_factory = LightUIFactory()\n",
    "light_btn = light_factory.getButton()\n",
    "light_checkBx = light_factory.getCheckBox()\n",
    "light_scrollBar = light_factory.getScrollBar()\n",
    "\n",
    "light_btn.click()\n",
    "light_checkBx.check()\n",
    "light_scrollBar.scroll()"
   ]
  }
 ],
 "metadata": {
  "kernelspec": {
   "display_name": "base",
   "language": "python",
   "name": "python3"
  },
  "language_info": {
   "codemirror_mode": {
    "name": "ipython",
    "version": 3
   },
   "file_extension": ".py",
   "mimetype": "text/x-python",
   "name": "python",
   "nbconvert_exporter": "python",
   "pygments_lexer": "ipython3",
   "version": "3.9.16"
  },
  "orig_nbformat": 4
 },
 "nbformat": 4,
 "nbformat_minor": 2
}
