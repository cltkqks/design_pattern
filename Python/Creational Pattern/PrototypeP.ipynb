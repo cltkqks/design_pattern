{
 "cells": [
  {
   "cell_type": "code",
   "execution_count": 1,
   "metadata": {},
   "outputs": [],
   "source": [
    "# deepcopy(clone) 지원 cat\n",
    "import copy\n",
    "\n",
    "class Cat:\n",
    "  def __init__(self):\n",
    "    self.color = None\n",
    "    self.eye_color = None\n",
    "    self.nose_color = None\n",
    "    self.tail_color = None\n",
    "    self.name = None\n",
    "\n",
    "  def clone(self):\n",
    "    return copy.deepcopy(self)\n"
   ]
  },
  {
   "cell_type": "code",
   "execution_count": 2,
   "metadata": {},
   "outputs": [],
   "source": [
    "cat_basic = Cat()\n",
    "cat_basic.color = 'white'\n",
    "cat_basic.eye_color = 'white'\n",
    "cat_basic.nose_color = 'white'\n",
    "cat_basic.tail_color = 'white'\n",
    "cat_basic.name = 'kitty'\n",
    "\n",
    "kitty = cat_basic.clone()\n",
    "kitty.name = 'kitty'\n",
    "\n",
    "nabi = cat_basic.clone()\n",
    "nabi = 'nabi'\n",
    "\n",
    "# 잘못된 복사방법\n",
    "# nabi = kitty"
   ]
  },
  {
   "cell_type": "code",
   "execution_count": 3,
   "metadata": {},
   "outputs": [],
   "source": [
    "# abstract structure prototype\n",
    "class BlackCat(Cat):\n",
    "  def __init__(self):\n",
    "    super().__init__()\n",
    "    self.color = 'black'\n",
    "\n",
    "class WhiteCat(Cat):\n",
    "  def __init__(self):\n",
    "    super().__init__()\n",
    "    self.color = 'white'\n",
    "\n",
    "\n",
    "black_cat = BlackCat()\n",
    "black_cat.nose_color = 'pink'\n",
    "black_cat.tail_color = 'green'"
   ]
  },
  {
   "cell_type": "code",
   "execution_count": 4,
   "metadata": {},
   "outputs": [],
   "source": [
    "# black_cat is prototype\n",
    "kitty = black_cat.clone()\n",
    "kitty.eye_color = 'white'\n",
    "kitty.name = 'kitty'\n",
    "\n",
    "nabi = black_cat.clone()\n",
    "nabi.eye_color = 'blue'\n",
    "nabi.name = 'nabi'"
   ]
  }
 ],
 "metadata": {
  "kernelspec": {
   "display_name": "base",
   "language": "python",
   "name": "python3"
  },
  "language_info": {
   "codemirror_mode": {
    "name": "ipython",
    "version": 3
   },
   "file_extension": ".py",
   "mimetype": "text/x-python",
   "name": "python",
   "nbconvert_exporter": "python",
   "pygments_lexer": "ipython3",
   "version": "3.10.9"
  },
  "orig_nbformat": 4,
  "vscode": {
   "interpreter": {
    "hash": "a077222d77dfe082b8f1dd562ad70e458ac2ab76993a0b248ab0476e32e9e8dd"
   }
  }
 },
 "nbformat": 4,
 "nbformat_minor": 2
}
