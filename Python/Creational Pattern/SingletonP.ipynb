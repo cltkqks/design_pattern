{
 "cells": [
  {
   "cell_type": "code",
   "execution_count": 13,
   "metadata": {},
   "outputs": [
    {
     "name": "stdout",
     "output_type": "stream",
     "text": [
      "2288972460576\n",
      "2288972449296\n",
      "Singleton failed, variables contain different instances.\n",
      "some business logic\n"
     ]
    }
   ],
   "source": [
    "# 1. Using Method Type\n",
    "class SingletonInstance:\n",
    "  __instance = None\n",
    "\n",
    "  @classmethod\n",
    "  def instance(cls, *args, **kargs):\n",
    "    cls.__instance = cls(*args, **kargs)\n",
    "    cls.instance = cls.__instance\n",
    "    return cls.__instance\n",
    "\n",
    "class MyClass(SingletonInstance):\n",
    "  def some_business_logic(self):\n",
    "    print(\"some business logic\")\n",
    "\n",
    "s1 = MyClass.getInstance()\n",
    "s2 = MyClass.getInstance()\n",
    "\n",
    "if id(s1) == id(s2):\n",
    "    print(\"Singleton works, both variables contain the same instance.\")\n",
    "else:\n",
    "    print(\"Singleton failed, variables contain different instances.\")\n",
    "\n",
    "s2.some_business_logic()"
   ]
  },
  {
   "cell_type": "code",
   "execution_count": 10,
   "metadata": {},
   "outputs": [
    {
     "name": "stdout",
     "output_type": "stream",
     "text": [
      "Singleton works, both variables contain the same instance.\n",
      "some business logic\n"
     ]
    }
   ],
   "source": [
    "# 2. Using Meta Class\n",
    "class SingletonMeta(type):\n",
    "    _instances = {}\n",
    "\n",
    "    def __call__(cls, *args, **kwargs):\n",
    "        if cls not in cls._instances:\n",
    "            instance = super().__call__(*args, **kwargs)\n",
    "            cls._instances[cls] = instance\n",
    "        return cls._instances[cls]\n",
    "\n",
    "\n",
    "class Singleton(metaclass=SingletonMeta):\n",
    "    def some_business_logic(self):\n",
    "        print(\"some business logic\")\n",
    "\n",
    "\n",
    "s1 = Singleton()\n",
    "s2 = Singleton()\n",
    "\n",
    "if id(s1) == id(s2):\n",
    "    print(\"Singleton works, both variables contain the same instance.\")\n",
    "else:\n",
    "    print(\"Singleton failed, variables contain different instances.\")\n",
    "\n",
    "s2.some_business_logic()"
   ]
  }
 ],
 "metadata": {
  "kernelspec": {
   "display_name": "base",
   "language": "python",
   "name": "python3"
  },
  "language_info": {
   "codemirror_mode": {
    "name": "ipython",
    "version": 3
   },
   "file_extension": ".py",
   "mimetype": "text/x-python",
   "name": "python",
   "nbconvert_exporter": "python",
   "pygments_lexer": "ipython3",
   "version": "3.10.9"
  },
  "orig_nbformat": 4,
  "vscode": {
   "interpreter": {
    "hash": "a077222d77dfe082b8f1dd562ad70e458ac2ab76993a0b248ab0476e32e9e8dd"
   }
  }
 },
 "nbformat": 4,
 "nbformat_minor": 2
}
