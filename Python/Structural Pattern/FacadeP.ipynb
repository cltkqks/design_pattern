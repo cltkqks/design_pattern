{
 "cells": [
  {
   "cell_type": "code",
   "execution_count": 1,
   "metadata": {},
   "outputs": [],
   "source": [
    "class Stage1:\n",
    "    def ignite(self):\n",
    "        print(\"1st stage ignition\")\n",
    "\n",
    "    def liftOff(self):\n",
    "        print(\"1st stage liftOff\")\n",
    "\n",
    "    def eject(self):\n",
    "        print(\"1st stage ejection\")\n",
    "\n",
    "    def comeBack(self):\n",
    "        print(\"1st stage return\")\n",
    "\n",
    "\n",
    "class Stage2:\n",
    "    def ignite(self):\n",
    "        print(\"2nd stage ignition\")\n",
    "\n",
    "    def eject(self):\n",
    "        print(\"2nd stage ignition\")\n",
    "\n",
    "\n",
    "class Capsule:\n",
    "    def ignite(self):\n",
    "        print(\"capsule ignition\")\n",
    "\n",
    "    def landing(self):\n",
    "        print(\"capsule landing/deploy\")"
   ]
  },
  {
   "cell_type": "code",
   "execution_count": 2,
   "metadata": {},
   "outputs": [],
   "source": [
    "class Rocket:\n",
    "    def __init__(self):\n",
    "        self.stage1 = Stage1()\n",
    "        self.stage2 = Stage2()\n",
    "        self.capsule = Capsule()\n",
    "\n",
    "    def launch(self):\n",
    "        self.stage1.ignite()\n",
    "        self.stage1.liftOff()\n",
    "        self.stage1.eject()\n",
    "        self.stage2.ignite()\n",
    "        self.stage1.comeBack()\n",
    "        self.stage2.eject()\n",
    "        self.capsule.ignite()\n",
    "        self.capsule.landing()"
   ]
  },
  {
   "cell_type": "code",
   "execution_count": 3,
   "metadata": {},
   "outputs": [
    {
     "name": "stdout",
     "output_type": "stream",
     "text": [
      "1st stage ignition\n",
      "1st stage liftOff\n",
      "1st stage ejection\n",
      "2nd stage ignition\n",
      "1st stage return\n",
      "2nd stage ignition\n",
      "capsule ignition\n",
      "capsule landing/deploy\n"
     ]
    }
   ],
   "source": [
    "rocket = Rocket()\n",
    "rocket.launch()"
   ]
  }
 ],
 "metadata": {
  "kernelspec": {
   "display_name": "base",
   "language": "python",
   "name": "python3"
  },
  "language_info": {
   "codemirror_mode": {
    "name": "ipython",
    "version": 3
   },
   "file_extension": ".py",
   "mimetype": "text/x-python",
   "name": "python",
   "nbconvert_exporter": "python",
   "pygments_lexer": "ipython3",
   "version": "3.10.9"
  },
  "orig_nbformat": 4
 },
 "nbformat": 4,
 "nbformat_minor": 2
}
