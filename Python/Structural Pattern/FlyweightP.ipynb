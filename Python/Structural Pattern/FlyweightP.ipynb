{
 "cells": [
  {
   "cell_type": "code",
   "execution_count": 1,
   "metadata": {},
   "outputs": [
    {
     "name": "stdout",
     "output_type": "stream",
     "text": [
      "choco,2,ATAGGCTTACCGATGG...\n",
      "baduk,3,ATAGGCTTACCGATGG...\n"
     ]
    }
   ],
   "source": [
    "class Dog:\n",
    "  def __init__(self,name,age,gender,breed,DNA):\n",
    "    self.name = name       #<20bytes ,upto 20 chars\n",
    "    self.age = age         #8bytes   ,64bit integer\n",
    "    self.gender = gender   #1byte    \n",
    "    self.breed = breed     #2bytes   ,upto 65k breeds\n",
    "    self.DNA = DNA   #MBytes\n",
    "\n",
    "  def __repr__(self):\n",
    "    return f'{self.name},{self.age},{self.DNA}'\n",
    "\n",
    "choco = Dog('choco',2,'male','shihTzu','ATAGGCTTACCGATGG...')\n",
    "baduk = Dog('baduk',3,'female','jinDo','ATAGGCTTACCGATGG...')\n",
    "\n",
    "print(choco)\n",
    "print(baduk)"
   ]
  },
  {
   "cell_type": "code",
   "execution_count": 3,
   "metadata": {},
   "outputs": [
    {
     "name": "stdout",
     "output_type": "stream",
     "text": [
      "choco,2,ATAGGCTTACCGATGG....\n",
      "baduk,3,ATAGGCTTACCGATGG....\n"
     ]
    }
   ],
   "source": [
    "class Dog:\n",
    "  DNAseq = \"ATAGGCTTACCGATGG....\"\n",
    "  def __init__(self,name,age,gender,breed):\n",
    "    self.name = name       #<20bytes ,upto 20 chars\n",
    "    self.age = age         #8bytes   ,64bit integer\n",
    "    self.gender = gender   #1byte    \n",
    "    self.breed = breed     #2bytes   ,upto 65k breeds\n",
    "\n",
    "  def __repr__(self):\n",
    "    return f'{self.name},{self.age},{Dog.DNAseq}'\n",
    "\n",
    "\n",
    "choco = Dog('choco',2,'male','shihTzu')\n",
    "baduk = Dog('baduk',3,'female','jinDo')\n",
    "\n",
    "print(choco)\n",
    "print(baduk)"
   ]
  },
  {
   "cell_type": "code",
   "execution_count": 4,
   "metadata": {},
   "outputs": [],
   "source": [
    "class DogBreedDNA:\n",
    "  def __init__(self,breed,DNA):\n",
    "    self.breed = breed\n",
    "    self.DNA = DNA\n",
    "  def __repr__(self):\n",
    "    return f'{self.DNA}'\n",
    "\n",
    "class Dog:\n",
    "  DNA_Table = {}  #{key,DogBreedDNA}\n",
    "  @staticmethod\n",
    "  def addDNA(breed,DNA):\n",
    "    breed_DNA = DogBreedDNA(breed,DNA)\n",
    "    Dog.DNA_Table[breed] = breed_DNA\n",
    "\n",
    "  def __init__(self,name,age,gender,breed):\n",
    "    self.name = name\n",
    "    self.age = age\n",
    "    self.gender = gender\n",
    "    self.breed = breed\n",
    "    if breed not in Dog.DNA_Table:\n",
    "      raise RuntimeError(f\"{breed} is not in DNA_Table\")\n",
    "\n",
    "  def __repr__(self):\n",
    "    return f'{self.name},{self.age},{Dog.DNA_Table[self.breed]}'\n"
   ]
  },
  {
   "cell_type": "code",
   "execution_count": 6,
   "metadata": {},
   "outputs": [
    {
     "name": "stdout",
     "output_type": "stream",
     "text": [
      "choco,2,ATAGGCTTACCGATGG...\n",
      "baduk,3,ATAGGCTTACCGATGA...\n"
     ]
    }
   ],
   "source": [
    "Dog.addDNA('shihTzu','ATAGGCTTACCGATGG...')\n",
    "Dog.addDNA('jinDo','ATAGGCTTACCGATGA...')\n",
    "\n",
    "choco = Dog('choco',2,'male','shihTzu')\n",
    "baduk = Dog('baduk',3,'female','jinDo')\n",
    "\n",
    "print(choco)\n",
    "print(baduk)"
   ]
  },
  {
   "cell_type": "code",
   "execution_count": 7,
   "metadata": {},
   "outputs": [
    {
     "ename": "RuntimeError",
     "evalue": "shiba is not in DNA_Table",
     "output_type": "error",
     "traceback": [
      "\u001b[0;31m---------------------------------------------------------------------------\u001b[0m",
      "\u001b[0;31mRuntimeError\u001b[0m                              Traceback (most recent call last)",
      "Cell \u001b[0;32mIn[7], line 1\u001b[0m\n\u001b[0;32m----> 1\u001b[0m bbobbi \u001b[39m=\u001b[39m Dog(\u001b[39m'\u001b[39;49m\u001b[39mbbobbi\u001b[39;49m\u001b[39m'\u001b[39;49m,\u001b[39m1\u001b[39;49m,\u001b[39m'\u001b[39;49m\u001b[39mfemale\u001b[39;49m\u001b[39m'\u001b[39;49m,\u001b[39m'\u001b[39;49m\u001b[39mshiba\u001b[39;49m\u001b[39m'\u001b[39;49m)\n",
      "Cell \u001b[0;32mIn[4], line 21\u001b[0m, in \u001b[0;36mDog.__init__\u001b[0;34m(self, name, age, gender, breed)\u001b[0m\n\u001b[1;32m     19\u001b[0m \u001b[39mself\u001b[39m\u001b[39m.\u001b[39mbreed \u001b[39m=\u001b[39m breed\n\u001b[1;32m     20\u001b[0m \u001b[39mif\u001b[39;00m breed \u001b[39mnot\u001b[39;00m \u001b[39min\u001b[39;00m Dog\u001b[39m.\u001b[39mDNA_Table:\n\u001b[0;32m---> 21\u001b[0m   \u001b[39mraise\u001b[39;00m \u001b[39mRuntimeError\u001b[39;00m(\u001b[39mf\u001b[39m\u001b[39m\"\u001b[39m\u001b[39m{\u001b[39;00mbreed\u001b[39m}\u001b[39;00m\u001b[39m is not in DNA_Table\u001b[39m\u001b[39m\"\u001b[39m)\n",
      "\u001b[0;31mRuntimeError\u001b[0m: shiba is not in DNA_Table"
     ]
    }
   ],
   "source": [
    "bbobbi = Dog('bbobbi',1,'female','shiba')"
   ]
  }
 ],
 "metadata": {
  "kernelspec": {
   "display_name": "pypy3.9",
   "language": "python",
   "name": "python3"
  },
  "language_info": {
   "codemirror_mode": {
    "name": "ipython",
    "version": 3
   },
   "file_extension": ".py",
   "mimetype": "text/x-python",
   "name": "python",
   "nbconvert_exporter": "python",
   "pygments_lexer": "ipython3",
   "version": "3.9.16"
  },
  "orig_nbformat": 4
 },
 "nbformat": 4,
 "nbformat_minor": 2
}
