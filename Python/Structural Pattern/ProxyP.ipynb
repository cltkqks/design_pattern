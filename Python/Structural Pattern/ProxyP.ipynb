{
 "cells": [
  {
   "cell_type": "code",
   "execution_count": 1,
   "metadata": {},
   "outputs": [
    {
     "name": "stdout",
     "output_type": "stream",
     "text": [
      "before speak\n",
      "meow\n",
      "after speak\n"
     ]
    }
   ],
   "source": [
    "class Animal:\n",
    "    def speak(self):\n",
    "        pass\n",
    "\n",
    "\n",
    "class Cat(Animal):\n",
    "    def speak(self):\n",
    "        print(\"meow\")\n",
    "\n",
    "\n",
    "class CatProxy(Animal):\n",
    "    def __init__(self, cat: Cat):\n",
    "        self.cat = cat\n",
    "\n",
    "    def speak(self):\n",
    "        print(\"before speak\")  # validity Check\n",
    "        self.cat.speak()\n",
    "        print(\"after speak\")  # logging\n",
    "\n",
    "\n",
    "kitty = Cat()\n",
    "kitty_proxy = CatProxy(kitty)\n",
    "kitty_proxy.speak()"
   ]
  }
 ],
 "metadata": {
  "kernelspec": {
   "display_name": "pypy3.9",
   "language": "python",
   "name": "python3"
  },
  "language_info": {
   "codemirror_mode": {
    "name": "ipython",
    "version": 3
   },
   "file_extension": ".py",
   "mimetype": "text/x-python",
   "name": "python",
   "nbconvert_exporter": "python",
   "pygments_lexer": "ipython3",
   "version": "3.9.16"
  },
  "orig_nbformat": 4
 },
 "nbformat": 4,
 "nbformat_minor": 2
}
