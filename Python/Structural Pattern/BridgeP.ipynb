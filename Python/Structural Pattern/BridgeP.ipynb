{
 "cells": [
  {
   "cell_type": "code",
   "execution_count": 1,
   "metadata": {},
   "outputs": [],
   "source": [
    "class Animal:\n",
    "  def speak(self):\n",
    "    pass\n",
    "\n",
    "class Cat(Animal):\n",
    "  def speak(self):\n",
    "    print('a cat ',end='')\n",
    "\n",
    "class Dog(Animal):\n",
    "  def speak(self):\n",
    "    print('a dog ',end='')\n"
   ]
  },
  {
   "cell_type": "code",
   "execution_count": 2,
   "metadata": {},
   "outputs": [],
   "source": [
    "class Vehicle:\n",
    "  def __init__(self,animal:Animal):\n",
    "    self.animal = animal\n",
    "\n",
    "  def start(self):\n",
    "    pass\n",
    "\n",
    "class Car(Vehicle):\n",
    "  def start(self):\n",
    "    self.animal.speak()\n",
    "    print('drives a car')\n",
    "\n",
    "class Boat(Vehicle):\n",
    "  def start(self):\n",
    "    self.animal.speak()\n",
    "    print('sails a boat')\n",
    "\n",
    "class Airplane(Vehicle):\n",
    "  def start(self):\n",
    "    self.animal.speak()\n",
    "    print('flies a plane')\n",
    "    \n"
   ]
  },
  {
   "cell_type": "code",
   "execution_count": 3,
   "metadata": {},
   "outputs": [
    {
     "name": "stdout",
     "output_type": "stream",
     "text": [
      "a cat sails a boat\n"
     ]
    }
   ],
   "source": [
    "cat = Cat()\n",
    "boat = Boat(cat)\n",
    "boat.start()"
   ]
  },
  {
   "cell_type": "code",
   "execution_count": 4,
   "metadata": {},
   "outputs": [
    {
     "name": "stdout",
     "output_type": "stream",
     "text": [
      "a dog drives a car\n"
     ]
    }
   ],
   "source": [
    "dog = Dog()\n",
    "car = Car(dog)\n",
    "car.start()"
   ]
  }
 ],
 "metadata": {
  "kernelspec": {
   "display_name": "pypy3.9",
   "language": "python",
   "name": "python3"
  },
  "language_info": {
   "codemirror_mode": {
    "name": "ipython",
    "version": 3
   },
   "file_extension": ".py",
   "mimetype": "text/x-python",
   "name": "python",
   "nbconvert_exporter": "python",
   "pygments_lexer": "ipython3",
   "version": "3.9.16"
  },
  "orig_nbformat": 4
 },
 "nbformat": 4,
 "nbformat_minor": 2
}
