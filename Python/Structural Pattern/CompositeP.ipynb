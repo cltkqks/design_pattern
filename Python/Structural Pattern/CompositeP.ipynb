{
 "cells": [
  {
   "cell_type": "code",
   "execution_count": 1,
   "metadata": {},
   "outputs": [],
   "source": [
    "class Component:\n",
    "    def fn(self):\n",
    "        pass\n",
    "\n",
    "\n",
    "class Leaf(Component):\n",
    "    def fn(self):\n",
    "        print(\"leaf\")\n",
    "\n",
    "\n",
    "class Composite(Component):\n",
    "    def __init__(self):\n",
    "        self.components = []\n",
    "\n",
    "    def add(self, component: Component):\n",
    "        self.components.append(component)\n",
    "\n",
    "    def fn(self):\n",
    "        print(\"composite\")\n",
    "        for component in self.components:\n",
    "            component.fn()"
   ]
  },
  {
   "cell_type": "code",
   "execution_count": 2,
   "metadata": {},
   "outputs": [
    {
     "name": "stdout",
     "output_type": "stream",
     "text": [
      "composite\n",
      "leaf\n",
      "composite\n",
      "leaf\n",
      "leaf\n"
     ]
    }
   ],
   "source": [
    "compst1 = Composite()\n",
    "compst1.add(Leaf())\n",
    "compst1.add(Leaf())\n",
    "\n",
    "compst0 = Composite()\n",
    "compst0.add(Leaf())\n",
    "compst0.add(compst1)\n",
    "\n",
    "compst0.fn()"
   ]
  },
  {
   "cell_type": "code",
   "execution_count": 4,
   "metadata": {},
   "outputs": [],
   "source": [
    "class Animal:\n",
    "    def speak(self):\n",
    "        pass\n",
    "\n",
    "\n",
    "class Cat(Animal):\n",
    "    def speak(self):\n",
    "        print(\"meow\")\n",
    "\n",
    "\n",
    "class Dog(Animal):\n",
    "    def speak(self):\n",
    "        print(\"bark\")\n",
    "\n",
    "\n",
    "class AnimalGroup(Animal):\n",
    "    def __init__(self):\n",
    "        self.animals = []\n",
    "\n",
    "    def add(self, animal: Animal):\n",
    "        self.animals.append(animal)\n",
    "\n",
    "    def speak(self):\n",
    "        print(\"group speaking..\")\n",
    "        for animal in self.animals:\n",
    "            animal.speak()"
   ]
  },
  {
   "cell_type": "code",
   "execution_count": 5,
   "metadata": {},
   "outputs": [
    {
     "name": "stdout",
     "output_type": "stream",
     "text": [
      "group speaking..\n",
      "group speaking..\n",
      "meow\n",
      "meow\n",
      "meow\n",
      "group speaking..\n",
      "bark\n",
      "bark\n"
     ]
    }
   ],
   "source": [
    "cat_group = AnimalGroup()\n",
    "cat_group.add(Cat())\n",
    "cat_group.add(Cat())\n",
    "cat_group.add(Cat())\n",
    "\n",
    "dog_group = AnimalGroup()\n",
    "dog_group.add(Dog())\n",
    "dog_group.add(Dog())\n",
    "\n",
    "zoo = AnimalGroup()\n",
    "zoo.add(cat_group)\n",
    "zoo.add(dog_group)\n",
    "\n",
    "zoo.speak()"
   ]
  }
 ],
 "metadata": {
  "kernelspec": {
   "display_name": "base",
   "language": "python",
   "name": "python3"
  },
  "language_info": {
   "codemirror_mode": {
    "name": "ipython",
    "version": 3
   },
   "file_extension": ".py",
   "mimetype": "text/x-python",
   "name": "python",
   "nbconvert_exporter": "python",
   "pygments_lexer": "ipython3",
   "version": "3.9.16"
  },
  "orig_nbformat": 4
 },
 "nbformat": 4,
 "nbformat_minor": 2
}
