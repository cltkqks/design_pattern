{
 "cells": [
  {
   "cell_type": "code",
   "execution_count": 1,
   "metadata": {},
   "outputs": [
    {
     "name": "stdout",
     "output_type": "stream",
     "text": [
      "cat walking\n",
      "dog walking\n"
     ]
    }
   ],
   "source": [
    "class Animal:  # interface class\n",
    "    def walk(self):\n",
    "        pass\n",
    "\n",
    "\n",
    "class Cat(Animal):\n",
    "    def walk(self):\n",
    "        print(\"cat walking\")\n",
    "\n",
    "\n",
    "class Dog(Animal):\n",
    "    def walk(self):\n",
    "        print(\"dog walking\")\n",
    "\n",
    "\n",
    "def makeWalk(animal: Animal):\n",
    "    animal.walk()\n",
    "\n",
    "\n",
    "kitty = Cat()\n",
    "bingo = Dog()\n",
    "\n",
    "makeWalk(kitty)\n",
    "makeWalk(bingo)"
   ]
  },
  {
   "cell_type": "code",
   "execution_count": 2,
   "metadata": {},
   "outputs": [
    {
     "ename": "AttributeError",
     "evalue": "'Fish' object has no attribute 'walk'",
     "output_type": "error",
     "traceback": [
      "\u001b[0;31m---------------------------------------------------------------------------\u001b[0m",
      "\u001b[0;31mAttributeError\u001b[0m                            Traceback (most recent call last)",
      "Cell \u001b[0;32mIn[2], line 7\u001b[0m\n\u001b[1;32m      3\u001b[0m     \u001b[39mprint\u001b[39m(\u001b[39m\"\u001b[39m\u001b[39mfish swimming\u001b[39m\u001b[39m\"\u001b[39m)\n\u001b[1;32m      5\u001b[0m nemo \u001b[39m=\u001b[39m Fish()\n\u001b[0;32m----> 7\u001b[0m makeWalk(nemo)\n",
      "Cell \u001b[0;32mIn[1], line 14\u001b[0m, in \u001b[0;36mmakeWalk\u001b[0;34m(animal)\u001b[0m\n\u001b[1;32m     13\u001b[0m \u001b[39mdef\u001b[39;00m \u001b[39mmakeWalk\u001b[39m(animal : Animal):\n\u001b[0;32m---> 14\u001b[0m   animal\u001b[39m.\u001b[39;49mwalk()\n",
      "\u001b[0;31mAttributeError\u001b[0m: 'Fish' object has no attribute 'walk'"
     ]
    }
   ],
   "source": [
    "class Fish:  # fish doesn't have a run method\n",
    "    def swim(self):\n",
    "        print(\"fish swimming\")\n",
    "\n",
    "\n",
    "nemo = Fish()\n",
    "\n",
    "makeWalk(nemo)  # nemo cannot walk"
   ]
  },
  {
   "cell_type": "code",
   "execution_count": null,
   "metadata": {},
   "outputs": [
    {
     "name": "stdout",
     "output_type": "stream",
     "text": [
      "fish swimming\n"
     ]
    }
   ],
   "source": [
    "class FishAdapter(Animal):\n",
    "    def __init__(self, fish: Fish):\n",
    "        self.fish = fish\n",
    "\n",
    "    def walk(self):\n",
    "        self.fish.swim()\n",
    "\n",
    "\n",
    "adapted_nemo = FishAdapter(nemo)\n",
    "makeWalk(adapted_nemo)"
   ]
  }
 ],
 "metadata": {
  "kernelspec": {
   "display_name": "base",
   "language": "python",
   "name": "python3"
  },
  "language_info": {
   "codemirror_mode": {
    "name": "ipython",
    "version": 3
   },
   "file_extension": ".py",
   "mimetype": "text/x-python",
   "name": "python",
   "nbconvert_exporter": "python",
   "pygments_lexer": "ipython3",
   "version": "3.9.16"
  },
  "orig_nbformat": 4
 },
 "nbformat": 4,
 "nbformat_minor": 2
}
